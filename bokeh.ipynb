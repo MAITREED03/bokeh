{
 "cells": [
  {
   "cell_type": "markdown",
   "id": "c46ceada-0050-4513-92f7-b0f89b133ced",
   "metadata": {},
   "source": [
    "Q1. How can you create a Bokeh plot using Python code?"
   ]
  },
  {
   "cell_type": "markdown",
   "id": "63ddfacd-9021-44e0-8680-eb0d636516c7",
   "metadata": {},
   "source": [
    "Creating a Bokeh plot in Python involves several steps. Bokeh is a powerful library for interactive data visualization. Here's a basic example of how to create a simple Bokeh plot:\n",
    "\n",
    "Install Bokeh:\n",
    "If you haven't installed Bokeh, you can install it using pip:"
   ]
  },
  {
   "cell_type": "code",
   "execution_count": null,
   "id": "e5382925-fb46-4012-a1a1-9f7f6c9a05eb",
   "metadata": {},
   "outputs": [],
   "source": [
    "pip install bokeh\n"
   ]
  },
  {
   "cell_type": "markdown",
   "id": "c66fd05d-01de-4881-b836-e864809a49ed",
   "metadata": {},
   "source": [
    "Import Bokeh modules:\n",
    "Import the necessary modules from Bokeh:"
   ]
  },
  {
   "cell_type": "markdown",
   "id": "974895b5-0926-451d-aa2b-7fd286ce7774",
   "metadata": {},
   "source": [
    "from bokeh.plotting import figure, show\n"
   ]
  },
  {
   "cell_type": "markdown",
   "id": "469b0d09-b6fb-417f-a5fa-b21f4ca11758",
   "metadata": {},
   "source": [
    "Create your data:\n",
    "Prepare the data that you want to visualize. For example:"
   ]
  },
  {
   "cell_type": "code",
   "execution_count": null,
   "id": "de57bc78-432b-4d48-a0a0-7564b8e0e308",
   "metadata": {},
   "outputs": [],
   "source": [
    "x = [1, 2, 3, 4, 5]\n",
    "y = [6, 7, 2, 4, 5]\n"
   ]
  },
  {
   "cell_type": "markdown",
   "id": "8093740e-e1d5-4c7f-b9f1-9bb976548b61",
   "metadata": {},
   "source": [
    "Create a figure:\n",
    "Create a Bokeh figure object:"
   ]
  },
  {
   "cell_type": "code",
   "execution_count": null,
   "id": "94a7222c-4c8d-4d4e-9f71-c15a1aae0fcf",
   "metadata": {},
   "outputs": [],
   "source": [
    "plot = figure(title='My Bokeh Plot', x_axis_label='X-axis', y_axis_label='Y-axis')\n"
   ]
  },
  {
   "cell_type": "markdown",
   "id": "21764043-1b5a-40c4-ba83-1a7e09b39c2e",
   "metadata": {},
   "source": [
    "Add data to the plot:\n",
    "Add your data to the figure using one of the glyph methods, for example, line:"
   ]
  },
  {
   "cell_type": "code",
   "execution_count": 1,
   "id": "be185e54-9fdf-4431-9c67-8be69319d3c8",
   "metadata": {},
   "outputs": [
    {
     "ename": "NameError",
     "evalue": "name 'plot' is not defined",
     "output_type": "error",
     "traceback": [
      "\u001b[0;31m---------------------------------------------------------------------------\u001b[0m",
      "\u001b[0;31mNameError\u001b[0m                                 Traceback (most recent call last)",
      "Cell \u001b[0;32mIn[1], line 1\u001b[0m\n\u001b[0;32m----> 1\u001b[0m \u001b[43mplot\u001b[49m\u001b[38;5;241m.\u001b[39mline(x, y, line_width\u001b[38;5;241m=\u001b[39m\u001b[38;5;241m2\u001b[39m)\n",
      "\u001b[0;31mNameError\u001b[0m: name 'plot' is not defined"
     ]
    }
   ],
   "source": [
    "plot.line(x, y, line_width=2)\n"
   ]
  },
  {
   "cell_type": "markdown",
   "id": "2f70ddee-2945-4d67-8a04-7f7b78b3c024",
   "metadata": {},
   "source": [
    "You can also use other glyphs such as circle, square, etc.\n",
    "\n",
    "Show the plot:\n",
    "Finally, display the plot using the show function:"
   ]
  },
  {
   "cell_type": "code",
   "execution_count": null,
   "id": "822c29f9-78a0-4162-9498-168584c8c6aa",
   "metadata": {},
   "outputs": [],
   "source": [
    "show(plot)\n"
   ]
  },
  {
   "cell_type": "code",
   "execution_count": null,
   "id": "fb690d90-bc3a-47e6-aff1-15f8f7dcb184",
   "metadata": {},
   "outputs": [],
   "source": [
    "from bokeh.plotting import figure, show\n",
    "\n",
    "# Create data\n",
    "x = [1, 2, 3, 4, 5]\n",
    "y = [6, 7, 2, 4, 5]\n",
    "\n",
    "# Create a figure\n",
    "plot = figure(title='My Bokeh Plot', x_axis_label='X-axis', y_axis_label='Y-axis')\n",
    "\n",
    "# Add data to the plot\n",
    "plot.line(x, y, line_width=2)\n",
    "\n",
    "# Show the plot\n",
    "show(plot)\n"
   ]
  },
  {
   "cell_type": "markdown",
   "id": "561df25b-4187-460c-9e6c-7ca290ba4504",
   "metadata": {},
   "source": [
    "Q2. What are glyphs in Bokeh, and how can you add them to a Bokeh plot? Explain with an example."
   ]
  },
  {
   "cell_type": "markdown",
   "id": "27952b75-bd03-42dd-9b02-19033757e280",
   "metadata": {},
   "source": [
    "In Bokeh, glyphs are visual markers used to represent data points on a plot. They include shapes such as lines, circles, squares, triangles, and more. Each glyph corresponds to a specific method in Bokeh that you can use to add that shape to your plot.\n",
    "\n",
    "Here's a brief explanation of how to add glyphs to a Bokeh plot with an example:"
   ]
  },
  {
   "cell_type": "code",
   "execution_count": null,
   "id": "595c3033-771a-4078-99ed-cdd4bd8bc51c",
   "metadata": {},
   "outputs": [],
   "source": [
    "from bokeh.plotting import figure, show\n",
    "\n",
    "# Create data\n",
    "x = [1, 2, 3, 4, 5]\n",
    "y = [6, 7, 2, 4, 5]\n",
    "\n",
    "# Create a figure\n",
    "plot = figure(title='Glyphs in Bokeh Plot', x_axis_label='X-axis', y_axis_label='Y-axis')\n",
    "\n",
    "# Add a line glyph\n",
    "plot.line(x, y, line_width=2, legend_label='Line')\n",
    "\n",
    "# Add a circle glyph\n",
    "plot.circle(x, y, size=10, color='red', legend_label='Circle')\n",
    "\n",
    "# Add a square glyph\n",
    "plot.square(x, y, size=8, color='green', legend_label='Square')\n",
    "\n",
    "# Add a triangle glyph\n",
    "plot.triangle(x, y, size=8, color='blue', legend_label='Triangle')\n",
    "\n",
    "# Show the plot with a legend\n",
    "plot.legend.location = 'top_left'\n",
    "show(plot)\n"
   ]
  },
  {
   "cell_type": "markdown",
   "id": "d4dd2d86-e441-4e39-97e3-63f686a2cf2b",
   "metadata": {},
   "source": [
    "Q3. How can you customize the appearance of a Bokeh plot, including the axes, title, and legend?"
   ]
  },
  {
   "cell_type": "markdown",
   "id": "a376c3c2-cd10-4e56-b35a-3a9a78cdd7f9",
   "metadata": {},
   "source": [
    "Customizing the appearance of a Bokeh plot involves modifying various properties of the plot, axes, title, and legend. Here's a breakdown of how you can customize these elements:\n",
    "\n",
    "Customizing Plot Properties:\n",
    "You can customize the overall appearance of the plot using the figure method and its parameters. Here's an example:"
   ]
  },
  {
   "cell_type": "code",
   "execution_count": null,
   "id": "f4a82cbe-f76c-481b-b68e-3e0e4ae34b6c",
   "metadata": {},
   "outputs": [],
   "source": [
    "from bokeh.plotting import figure, show\n",
    "\n",
    "# Create data\n",
    "x = [1, 2, 3, 4, 5]\n",
    "y = [6, 7, 2, 4, 5]\n",
    "\n",
    "# Create a figure with customized properties\n",
    "plot = figure(title='Customized Bokeh Plot', \n",
    "              x_axis_label='X-axis', \n",
    "              y_axis_label='Y-axis',\n",
    "              plot_width=600,  # Set the width of the plot\n",
    "              plot_height=400,  # Set the height of the plot\n",
    "              background_fill_color='lightgrey',  # Set the background color\n",
    "              tools='pan,box_zoom,reset',  # Add interactive tools\n",
    "              toolbar_location='above'  # Change the toolbar location\n",
    "              )\n",
    "\n",
    "# Add glyphs or other customization here...\n",
    "\n",
    "# Show the plot\n",
    "show(plot)\n"
   ]
  },
  {
   "cell_type": "markdown",
   "id": "513602c7-11c0-494e-9ab0-4ffb13cfa0e4",
   "metadata": {},
   "source": [
    "Customizing Axes:\n",
    "You can customize the appearance of the axes using properties like axis_label, axis_label_standoff, major_label_text_color, and more. Here's an example:\n"
   ]
  },
  {
   "cell_type": "code",
   "execution_count": null,
   "id": "f4831bed-ad3d-4cf5-a087-3024428efb91",
   "metadata": {},
   "outputs": [],
   "source": [
    "# Customize axes\n",
    "plot.xaxis.axis_label = 'Custom X-axis Label'\n",
    "plot.yaxis.axis_label = 'Custom Y-axis Label'\n",
    "plot.xaxis.axis_label_standoff = 10  # Distance between axis label and axis\n",
    "plot.yaxis.major_label_text_color = 'red'  # Color of major tick labels\n"
   ]
  },
  {
   "cell_type": "markdown",
   "id": "b74ba83d-6e68-4ba6-8fea-2bee88aefd6c",
   "metadata": {},
   "source": [
    "Customizing Title:\n",
    "Customizing the title involves modifying properties like title, title_text_font_size, and others. Example:"
   ]
  },
  {
   "cell_type": "code",
   "execution_count": null,
   "id": "d7948202-a16c-4c72-a3af-d1f893ee85bb",
   "metadata": {},
   "outputs": [],
   "source": [
    "# Customize title\n",
    "plot.title.text = 'Custom Title'\n",
    "plot.title.text_color = 'navy'\n",
    "plot.title.text_font_size = '16pt'\n"
   ]
  },
  {
   "cell_type": "markdown",
   "id": "5dec14ec-1dff-4ff1-b4da-1af8126e7cf0",
   "metadata": {},
   "source": [
    "Customizing Legend:\n",
    "You can customize the legend using properties like legend, legend.title, and others. Example:"
   ]
  },
  {
   "cell_type": "code",
   "execution_count": null,
   "id": "66dbd321-48a7-406f-a402-f2cfa1918844",
   "metadata": {},
   "outputs": [],
   "source": [
    "# Customize legend\n",
    "plot.legend.location = 'top_left'\n",
    "plot.legend.title = 'My Legend'\n",
    "plot.legend.label_text_color = 'green'\n"
   ]
  },
  {
   "cell_type": "markdown",
   "id": "3d1da304-1c7c-42f5-b3c9-d80a174771dd",
   "metadata": {},
   "source": [
    "Q4. What is a Bokeh server, and how can you use it to create interactive plots that can be updated in\n",
    "real time?"
   ]
  },
  {
   "cell_type": "markdown",
   "id": "1bf75ce1-05f4-447e-998b-b94e0aefe8b6",
   "metadata": {},
   "source": [
    "Bokeh Server is a component of the Bokeh library that allows you to create interactive, real-time, and dynamic web applications with Python. It extends the capabilities of Bokeh by enabling the server to push updates to the client side, allowing for interactive and live data visualizations. With Bokeh Server, you can build applications where users can interact with plots, widgets, and other components, and the application dynamically updates in response to user inputs or changes in the underlying data.\n",
    "\n",
    "Here are the basic steps to use Bokeh Server to create interactive plots:\n",
    "\n",
    "Install Bokeh:\n",
    "Ensure you have Bokeh installed. You can install it using pip:"
   ]
  },
  {
   "cell_type": "markdown",
   "id": "487ca4e3-fbbe-4012-8a64-1383323b3e12",
   "metadata": {},
   "source": [
    "pip install bokeh\n",
    "Create a Bokeh App:\n",
    "Create a Python script or module that defines your Bokeh application. This script typically contains a function or class that creates the initial layout and sets up callbacks for handling interactions or updates. The script should end with a call to curdoc().add_root(layout) to display the layout."
   ]
  },
  {
   "cell_type": "code",
   "execution_count": null,
   "id": "77487fc5-ec84-4e87-98e8-61ae0dd85a06",
   "metadata": {},
   "outputs": [],
   "source": [
    "# my_bokeh_app.py\n",
    "from bokeh.plotting import figure, curdoc\n",
    "from bokeh.models import Slider\n",
    "\n",
    "# Create a plot\n",
    "plot = figure(width=400, height=400)\n",
    "slider = Slider(start=0, end=10, value=5, step=0.1, title=\"Slider\")\n",
    "\n",
    "# Define callback function\n",
    "def update(attr, old, new):\n",
    "    # Update plot based on slider value\n",
    "    plot.title.text = f\"Slider value: {slider.value}\"\n",
    "\n",
    "# Attach callback to slider\n",
    "slider.on_change('value', update)\n",
    "\n",
    "# Add plot and slider to layout\n",
    "layout = column(slider, plot)\n",
    "\n",
    "# Display layout\n",
    "curdoc().add_root(layout)\n"
   ]
  },
  {
   "cell_type": "markdown",
   "id": "564a9213-89fe-4a25-a0bf-d8cb7560e2f5",
   "metadata": {},
   "source": [
    "Run Bokeh Server:\n",
    "To run the Bokeh Server and launch your application, use the following command in your terminal:"
   ]
  },
  {
   "cell_type": "code",
   "execution_count": null,
   "id": "bcd1a41b-9618-47d5-87b3-447539aea2ff",
   "metadata": {},
   "outputs": [],
   "source": [
    "bokeh serve --show my_bokeh_app.py\n"
   ]
  },
  {
   "cell_type": "markdown",
   "id": "084b7a9d-a887-4246-98e7-618b379c4dfa",
   "metadata": {},
   "source": [
    "This will start the Bokeh Server and open a new browser window/tab displaying your interactive plot.\n",
    "\n",
    "Interact with the Application:\n",
    "Users can interact with the plot by adjusting the slider or any other interactive components you include in your application. The plot will dynamically update in real-time based on user input."
   ]
  },
  {
   "cell_type": "markdown",
   "id": "5dc0b3ef-7573-4504-a82d-e69c96324bf0",
   "metadata": {},
   "source": [
    "Q5. How can you embed a Bokeh plot into a web page or dashboard using Flask or Django?"
   ]
  },
  {
   "cell_type": "markdown",
   "id": "75e99cd7-febc-4356-8ad3-afe89151e492",
   "metadata": {},
   "source": [
    "Embedding a Bokeh plot into a web page or a dashboard using Flask or Django involves creating a web application that serves the Bokeh plot as part of the HTML page. Below are basic examples for both Flask and Django:\n",
    "\n",
    "Flask:\n",
    "Install Flask and Bokeh:\n",
    "Make sure Flask and Bokeh are installed. You can install them using pip:"
   ]
  },
  {
   "cell_type": "code",
   "execution_count": null,
   "id": "a765cd7a-14f2-46b7-a8f6-8fa5680a12fc",
   "metadata": {},
   "outputs": [],
   "source": [
    "pip install Flask bokeh\n"
   ]
  },
  {
   "cell_type": "markdown",
   "id": "5395fa9f-9680-42d5-afd0-8bf0c2ad262b",
   "metadata": {},
   "source": [
    "reate Flask App:\n",
    "Create a file named app.py with the following content:"
   ]
  },
  {
   "cell_type": "code",
   "execution_count": null,
   "id": "fcfb8948-ee52-47c2-ae4f-cdada471a070",
   "metadata": {},
   "outputs": [],
   "source": [
    "from flask import Flask, render_template\n",
    "from bokeh.embed import components\n",
    "from bokeh.plotting import figure\n",
    "from bokeh.resources import CDN\n",
    "\n",
    "app = Flask(__name__)\n",
    "\n",
    "@app.route('/')\n",
    "def index():\n",
    "    # Create Bokeh plot\n",
    "    plot = figure()\n",
    "    plot.circle([1, 2, 3], [4, 5, 6])\n",
    "\n",
    "    # Embed Bokeh plot into HTML template\n",
    "    script, div = components(plot, CDN)\n",
    "    return render_template('index.html', script=script, div=div)\n",
    "\n",
    "if __name__ == '__main__':\n",
    "    app.run(debug=True)\n"
   ]
  },
  {
   "cell_type": "markdown",
   "id": "5a550e8f-743b-4948-991f-c2a2ff5fba3a",
   "metadata": {},
   "source": [
    "Create HTML Template:\n",
    "Create a folder named templates in the same directory as your app.py. Inside the templates folder, create an HTML file named index.html:"
   ]
  },
  {
   "cell_type": "code",
   "execution_count": null,
   "id": "b9a04fb2-421b-454a-aa91-cbd73a469602",
   "metadata": {},
   "outputs": [],
   "source": [
    "<!DOCTYPE html>\n",
    "<html lang=\"en\">\n",
    "<head>\n",
    "    <meta charset=\"UTF-8\">\n",
    "    <title>Bokeh Plot with Flask</title>\n",
    "    {{ script|safe }}\n",
    "</head>\n",
    "<body>\n",
    "    <h1>Bokeh Plot</h1>\n",
    "    {{ div|safe }}\n",
    "</body>\n",
    "</html>\n"
   ]
  },
  {
   "cell_type": "code",
   "execution_count": null,
   "id": "ce035346-2114-419a-92ef-c3796d553341",
   "metadata": {},
   "outputs": [],
   "source": [
    "Run Flask App:\n",
    "Run your Flask application:"
   ]
  },
  {
   "cell_type": "code",
   "execution_count": null,
   "id": "d67c4aef-c230-4091-9e1c-7f3fb4f3a592",
   "metadata": {},
   "outputs": [],
   "source": [
    "python app.py\n"
   ]
  },
  {
   "cell_type": "code",
   "execution_count": null,
   "id": "005b3080-c03f-4be4-9ed9-d3f94219eb20",
   "metadata": {},
   "outputs": [],
   "source": [
    "Django:\n",
    "Install Django and Bokeh:\n",
    "Install Django and Bokeh using pip:"
   ]
  },
  {
   "cell_type": "code",
   "execution_count": null,
   "id": "a37d5f26-3f30-4aff-aebf-f519a0e6391b",
   "metadata": {},
   "outputs": [],
   "source": [
    "pip install Django bokeh\n"
   ]
  },
  {
   "cell_type": "code",
   "execution_count": null,
   "id": "f2aa23e6-4bf6-447a-b262-d7677dc311a3",
   "metadata": {},
   "outputs": [],
   "source": [
    "Create Django Project and App:\n",
    "Create a Django project and an app:"
   ]
  },
  {
   "cell_type": "code",
   "execution_count": null,
   "id": "2f344adb-3bca-428f-b6a8-31ac64df631a",
   "metadata": {},
   "outputs": [],
   "source": [
    "django-admin startproject myproject\n",
    "cd myproject\n",
    "python manage.py startapp myapp\n"
   ]
  },
  {
   "cell_type": "code",
   "execution_count": null,
   "id": "6153b9b8-b5b9-41c1-b586-7131d3a2d3e0",
   "metadata": {},
   "outputs": [],
   "source": [
    "Configure Django App:\n",
    "In myapp/views.py, create a view that generates the Bokeh plot:"
   ]
  },
  {
   "cell_type": "code",
   "execution_count": null,
   "id": "a59cae85-f780-4f1b-955b-1a006890a27b",
   "metadata": {},
   "outputs": [],
   "source": [
    "from django.shortcuts import render\n",
    "from bokeh.plotting import figure\n",
    "from bokeh.embed import components\n",
    "from bokeh.resources import CDN\n",
    "\n",
    "def bokeh_plot(request):\n",
    "    # Create Bokeh plot\n",
    "    plot = figure()\n",
    "    plot.circle([1, 2, 3], [4, 5, 6])\n",
    "\n",
    "    # Embed Bokeh plot into HTML template\n",
    "    script, div = components(plot, CDN)\n",
    "    return render(request, 'myapp/index.html', {'script': script, 'div': div})\n"
   ]
  },
  {
   "cell_type": "markdown",
   "id": "702408b8-0c64-4887-9d9b-13a4992eb1a8",
   "metadata": {},
   "source": [
    "Create HTML Template:\n",
    "Create a folder named templates in the myapp directory. Inside the templates folder, create an HTML file named index.html:"
   ]
  },
  {
   "cell_type": "code",
   "execution_count": null,
   "id": "02a0d5da-73d6-4548-8114-c1d04b09fc66",
   "metadata": {},
   "outputs": [],
   "source": [
    "<!DOCTYPE html>\n",
    "<html lang=\"en\">\n",
    "<head>\n",
    "    <meta charset=\"UTF-8\">\n",
    "    <title>Bokeh Plot with Django</title>\n",
    "    {{ script|safe }}\n",
    "</head>\n",
    "<body>\n",
    "    <h1>Bokeh Plot</h1>\n",
    "    {{ div|safe }}\n",
    "</body>\n",
    "</html>\n"
   ]
  },
  {
   "cell_type": "markdown",
   "id": "00d10df4-44d2-4707-b81e-c7575f66aeb5",
   "metadata": {},
   "source": [
    "Configure URLs:\n",
    "In myapp/urls.py, define the URL pattern for the Bokeh plot:"
   ]
  },
  {
   "cell_type": "code",
   "execution_count": null,
   "id": "d7e89de3-6d65-4ebd-bda6-f48db49a298a",
   "metadata": {},
   "outputs": [],
   "source": [
    "from django.urls import path\n",
    "from .views import bokeh_plot\n",
    "\n",
    "urlpatterns = [\n",
    "    path('bokeh_plot/', bokeh_plot, name='bokeh_plot'),\n",
    "]\n"
   ]
  },
  {
   "cell_type": "markdown",
   "id": "800be7c2-5943-4462-ad91-f6aa5c10d56d",
   "metadata": {},
   "source": [
    "nclude this app-specific URL configuration in your project's urls.py.\n",
    "\n",
    "Run Django Server:\n",
    "Run the Django development server:"
   ]
  },
  {
   "cell_type": "code",
   "execution_count": null,
   "id": "e32bd01f-ee55-4246-913a-00a4817949a9",
   "metadata": {},
   "outputs": [],
   "source": [
    "python manage.py runserver\n"
   ]
  },
  {
   "cell_type": "markdown",
   "id": "6a5b3d44-48db-4076-a12d-d9ce02cf6885",
   "metadata": {},
   "source": [
    "Open your web browser and navigate to http://localhost:8000/bokeh_plot to view the embedded Bokeh plot."
   ]
  },
  {
   "cell_type": "code",
   "execution_count": null,
   "id": "62dda520-e2d8-4983-a875-a2499ff9283f",
   "metadata": {},
   "outputs": [],
   "source": []
  },
  {
   "cell_type": "code",
   "execution_count": null,
   "id": "2fb9e513-f608-4dc2-9872-fc5a22960acf",
   "metadata": {},
   "outputs": [],
   "source": []
  }
 ],
 "metadata": {
  "kernelspec": {
   "display_name": "Python 3 (ipykernel)",
   "language": "python",
   "name": "python3"
  },
  "language_info": {
   "codemirror_mode": {
    "name": "ipython",
    "version": 3
   },
   "file_extension": ".py",
   "mimetype": "text/x-python",
   "name": "python",
   "nbconvert_exporter": "python",
   "pygments_lexer": "ipython3",
   "version": "3.10.8"
  }
 },
 "nbformat": 4,
 "nbformat_minor": 5
}
